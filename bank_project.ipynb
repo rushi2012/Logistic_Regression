{
  "nbformat": 4,
  "nbformat_minor": 0,
  "metadata": {
    "colab": {
      "name": "bank_project.ipynb",
      "provenance": [],
      "authorship_tag": "ABX9TyNonT2J3cupnu+t/EhOc5b5",
      "include_colab_link": true
    },
    "kernelspec": {
      "name": "python3",
      "display_name": "Python 3"
    },
    "language_info": {
      "name": "python"
    }
  },
  "cells": [
    {
      "cell_type": "markdown",
      "metadata": {
        "id": "view-in-github",
        "colab_type": "text"
      },
      "source": [
        "<a href=\"https://colab.research.google.com/github/rushi2012/Logistic_Regression/blob/main/bank_project.ipynb\" target=\"_parent\"><img src=\"https://colab.research.google.com/assets/colab-badge.svg\" alt=\"Open In Colab\"/></a>"
      ]
    },
    {
      "cell_type": "code",
      "metadata": {
        "id": "MWh1PMweZhTT"
      },
      "source": [
        "import pandas as pd\n",
        "import matplotlib.pyplot as plt\n",
        "import numpy as np\n",
        "import seaborn as sns\n",
        "import warnings\n",
        "warnings.filterwarnings('ignore')\n"
      ],
      "execution_count": 91,
      "outputs": []
    },
    {
      "cell_type": "code",
      "metadata": {
        "colab": {
          "base_uri": "https://localhost:8080/",
          "height": 226
        },
        "id": "fDNyqoSfZyd7",
        "outputId": "f13c7acc-d8f5-4b27-a338-ed5a84a55b3e"
      },
      "source": [
        "pb = pd.read_csv('/content/portu_banking_final.csv')\n",
        "pb.head()"
      ],
      "execution_count": 92,
      "outputs": [
        {
          "output_type": "execute_result",
          "data": {
            "text/html": [
              "<div>\n",
              "<style scoped>\n",
              "    .dataframe tbody tr th:only-of-type {\n",
              "        vertical-align: middle;\n",
              "    }\n",
              "\n",
              "    .dataframe tbody tr th {\n",
              "        vertical-align: top;\n",
              "    }\n",
              "\n",
              "    .dataframe thead th {\n",
              "        text-align: right;\n",
              "    }\n",
              "</style>\n",
              "<table border=\"1\" class=\"dataframe\">\n",
              "  <thead>\n",
              "    <tr style=\"text-align: right;\">\n",
              "      <th></th>\n",
              "      <th>age</th>\n",
              "      <th>job</th>\n",
              "      <th>marital</th>\n",
              "      <th>education</th>\n",
              "      <th>default</th>\n",
              "      <th>housing</th>\n",
              "      <th>loan</th>\n",
              "      <th>contact</th>\n",
              "      <th>month</th>\n",
              "      <th>day_of_week</th>\n",
              "      <th>duration</th>\n",
              "      <th>campaign</th>\n",
              "      <th>pdays</th>\n",
              "      <th>previous</th>\n",
              "      <th>poutcome</th>\n",
              "      <th>emp_var_rate</th>\n",
              "      <th>cons_price_idx</th>\n",
              "      <th>cons_conf_idx</th>\n",
              "      <th>euribor3m</th>\n",
              "      <th>nr_employed</th>\n",
              "      <th>y</th>\n",
              "    </tr>\n",
              "  </thead>\n",
              "  <tbody>\n",
              "    <tr>\n",
              "      <th>0</th>\n",
              "      <td>44</td>\n",
              "      <td>blue-collar</td>\n",
              "      <td>married</td>\n",
              "      <td>basic.4y</td>\n",
              "      <td>unknown</td>\n",
              "      <td>yes</td>\n",
              "      <td>no</td>\n",
              "      <td>cellular</td>\n",
              "      <td>aug</td>\n",
              "      <td>thu</td>\n",
              "      <td>210</td>\n",
              "      <td>1</td>\n",
              "      <td>999.0</td>\n",
              "      <td>0</td>\n",
              "      <td>nonexistent</td>\n",
              "      <td>1.4</td>\n",
              "      <td>93.444</td>\n",
              "      <td>-36.1</td>\n",
              "      <td>4.963</td>\n",
              "      <td>5228.1</td>\n",
              "      <td>0</td>\n",
              "    </tr>\n",
              "    <tr>\n",
              "      <th>1</th>\n",
              "      <td>53</td>\n",
              "      <td>technician</td>\n",
              "      <td>married</td>\n",
              "      <td>unknown</td>\n",
              "      <td>no</td>\n",
              "      <td>no</td>\n",
              "      <td>no</td>\n",
              "      <td>cellular</td>\n",
              "      <td>nov</td>\n",
              "      <td>fri</td>\n",
              "      <td>138</td>\n",
              "      <td>1</td>\n",
              "      <td>999.0</td>\n",
              "      <td>0</td>\n",
              "      <td>nonexistent</td>\n",
              "      <td>-0.1</td>\n",
              "      <td>93.200</td>\n",
              "      <td>-42.0</td>\n",
              "      <td>4.021</td>\n",
              "      <td>5195.8</td>\n",
              "      <td>0</td>\n",
              "    </tr>\n",
              "    <tr>\n",
              "      <th>2</th>\n",
              "      <td>28</td>\n",
              "      <td>management</td>\n",
              "      <td>single</td>\n",
              "      <td>university.degree</td>\n",
              "      <td>no</td>\n",
              "      <td>yes</td>\n",
              "      <td>no</td>\n",
              "      <td>cellular</td>\n",
              "      <td>jun</td>\n",
              "      <td>thu</td>\n",
              "      <td>339</td>\n",
              "      <td>3</td>\n",
              "      <td>6.0</td>\n",
              "      <td>2</td>\n",
              "      <td>success</td>\n",
              "      <td>-1.7</td>\n",
              "      <td>94.055</td>\n",
              "      <td>-39.8</td>\n",
              "      <td>0.729</td>\n",
              "      <td>4991.6</td>\n",
              "      <td>1</td>\n",
              "    </tr>\n",
              "    <tr>\n",
              "      <th>3</th>\n",
              "      <td>39</td>\n",
              "      <td>services</td>\n",
              "      <td>married</td>\n",
              "      <td>high.school</td>\n",
              "      <td>no</td>\n",
              "      <td>no</td>\n",
              "      <td>no</td>\n",
              "      <td>cellular</td>\n",
              "      <td>apr</td>\n",
              "      <td>fri</td>\n",
              "      <td>185</td>\n",
              "      <td>2</td>\n",
              "      <td>999.0</td>\n",
              "      <td>0</td>\n",
              "      <td>nonexistent</td>\n",
              "      <td>-1.8</td>\n",
              "      <td>93.075</td>\n",
              "      <td>-47.1</td>\n",
              "      <td>1.405</td>\n",
              "      <td>5099.1</td>\n",
              "      <td>0</td>\n",
              "    </tr>\n",
              "    <tr>\n",
              "      <th>4</th>\n",
              "      <td>55</td>\n",
              "      <td>retired</td>\n",
              "      <td>married</td>\n",
              "      <td>basic.4y</td>\n",
              "      <td>no</td>\n",
              "      <td>yes</td>\n",
              "      <td>no</td>\n",
              "      <td>cellular</td>\n",
              "      <td>aug</td>\n",
              "      <td>fri</td>\n",
              "      <td>137</td>\n",
              "      <td>1</td>\n",
              "      <td>3.0</td>\n",
              "      <td>1</td>\n",
              "      <td>success</td>\n",
              "      <td>-2.9</td>\n",
              "      <td>92.201</td>\n",
              "      <td>-31.4</td>\n",
              "      <td>0.869</td>\n",
              "      <td>5076.2</td>\n",
              "      <td>1</td>\n",
              "    </tr>\n",
              "  </tbody>\n",
              "</table>\n",
              "</div>"
            ],
            "text/plain": [
              "  age          job  marital  ... euribor3m nr_employed  y\n",
              "0  44  blue-collar  married  ...     4.963      5228.1  0\n",
              "1  53   technician  married  ...     4.021      5195.8  0\n",
              "2  28   management   single  ...     0.729      4991.6  1\n",
              "3  39     services  married  ...     1.405      5099.1  0\n",
              "4  55      retired  married  ...     0.869      5076.2  1\n",
              "\n",
              "[5 rows x 21 columns]"
            ]
          },
          "metadata": {},
          "execution_count": 92
        }
      ]
    },
    {
      "cell_type": "code",
      "source": [
        "pb.shape"
      ],
      "metadata": {
        "colab": {
          "base_uri": "https://localhost:8080/"
        },
        "id": "TdY4AJ1dJm3t",
        "outputId": "558ac63d-22dc-4152-d2db-5cb685c8c118"
      },
      "execution_count": 93,
      "outputs": [
        {
          "output_type": "execute_result",
          "data": {
            "text/plain": [
              "(41188, 21)"
            ]
          },
          "metadata": {},
          "execution_count": 93
        }
      ]
    },
    {
      "cell_type": "code",
      "source": [
        "pb.describe()"
      ],
      "metadata": {
        "colab": {
          "base_uri": "https://localhost:8080/",
          "height": 300
        },
        "id": "Dp0_7Wk4JwY1",
        "outputId": "b91c1a60-265c-40ab-9fb2-d743d57ca8cc"
      },
      "execution_count": 94,
      "outputs": [
        {
          "output_type": "execute_result",
          "data": {
            "text/html": [
              "<div>\n",
              "<style scoped>\n",
              "    .dataframe tbody tr th:only-of-type {\n",
              "        vertical-align: middle;\n",
              "    }\n",
              "\n",
              "    .dataframe tbody tr th {\n",
              "        vertical-align: top;\n",
              "    }\n",
              "\n",
              "    .dataframe thead th {\n",
              "        text-align: right;\n",
              "    }\n",
              "</style>\n",
              "<table border=\"1\" class=\"dataframe\">\n",
              "  <thead>\n",
              "    <tr style=\"text-align: right;\">\n",
              "      <th></th>\n",
              "      <th>duration</th>\n",
              "      <th>campaign</th>\n",
              "      <th>pdays</th>\n",
              "      <th>previous</th>\n",
              "      <th>emp_var_rate</th>\n",
              "      <th>cons_price_idx</th>\n",
              "      <th>cons_conf_idx</th>\n",
              "      <th>euribor3m</th>\n",
              "      <th>nr_employed</th>\n",
              "      <th>y</th>\n",
              "    </tr>\n",
              "  </thead>\n",
              "  <tbody>\n",
              "    <tr>\n",
              "      <th>count</th>\n",
              "      <td>41188.000000</td>\n",
              "      <td>41188.000000</td>\n",
              "      <td>41188.000000</td>\n",
              "      <td>41188.000000</td>\n",
              "      <td>41188.000000</td>\n",
              "      <td>41188.000000</td>\n",
              "      <td>41188.000000</td>\n",
              "      <td>41188.000000</td>\n",
              "      <td>41188.000000</td>\n",
              "      <td>41188.000000</td>\n",
              "    </tr>\n",
              "    <tr>\n",
              "      <th>mean</th>\n",
              "      <td>258.285010</td>\n",
              "      <td>2.567593</td>\n",
              "      <td>963.568005</td>\n",
              "      <td>0.172963</td>\n",
              "      <td>0.081886</td>\n",
              "      <td>93.575664</td>\n",
              "      <td>-40.502600</td>\n",
              "      <td>3.621291</td>\n",
              "      <td>5167.035911</td>\n",
              "      <td>0.112654</td>\n",
              "    </tr>\n",
              "    <tr>\n",
              "      <th>std</th>\n",
              "      <td>259.279249</td>\n",
              "      <td>2.770014</td>\n",
              "      <td>211.772296</td>\n",
              "      <td>0.494901</td>\n",
              "      <td>1.570960</td>\n",
              "      <td>0.578840</td>\n",
              "      <td>4.628198</td>\n",
              "      <td>1.734447</td>\n",
              "      <td>72.251528</td>\n",
              "      <td>0.316173</td>\n",
              "    </tr>\n",
              "    <tr>\n",
              "      <th>min</th>\n",
              "      <td>0.000000</td>\n",
              "      <td>1.000000</td>\n",
              "      <td>0.000000</td>\n",
              "      <td>0.000000</td>\n",
              "      <td>-3.400000</td>\n",
              "      <td>92.201000</td>\n",
              "      <td>-50.800000</td>\n",
              "      <td>0.634000</td>\n",
              "      <td>4963.600000</td>\n",
              "      <td>0.000000</td>\n",
              "    </tr>\n",
              "    <tr>\n",
              "      <th>25%</th>\n",
              "      <td>102.000000</td>\n",
              "      <td>1.000000</td>\n",
              "      <td>999.000000</td>\n",
              "      <td>0.000000</td>\n",
              "      <td>-1.800000</td>\n",
              "      <td>93.075000</td>\n",
              "      <td>-42.700000</td>\n",
              "      <td>1.344000</td>\n",
              "      <td>5099.100000</td>\n",
              "      <td>0.000000</td>\n",
              "    </tr>\n",
              "    <tr>\n",
              "      <th>50%</th>\n",
              "      <td>180.000000</td>\n",
              "      <td>2.000000</td>\n",
              "      <td>999.000000</td>\n",
              "      <td>0.000000</td>\n",
              "      <td>1.100000</td>\n",
              "      <td>93.749000</td>\n",
              "      <td>-41.800000</td>\n",
              "      <td>4.857000</td>\n",
              "      <td>5191.000000</td>\n",
              "      <td>0.000000</td>\n",
              "    </tr>\n",
              "    <tr>\n",
              "      <th>75%</th>\n",
              "      <td>319.000000</td>\n",
              "      <td>3.000000</td>\n",
              "      <td>999.000000</td>\n",
              "      <td>0.000000</td>\n",
              "      <td>1.400000</td>\n",
              "      <td>93.994000</td>\n",
              "      <td>-36.400000</td>\n",
              "      <td>4.961000</td>\n",
              "      <td>5228.100000</td>\n",
              "      <td>0.000000</td>\n",
              "    </tr>\n",
              "    <tr>\n",
              "      <th>max</th>\n",
              "      <td>4918.000000</td>\n",
              "      <td>56.000000</td>\n",
              "      <td>9999.000000</td>\n",
              "      <td>7.000000</td>\n",
              "      <td>1.400000</td>\n",
              "      <td>94.767000</td>\n",
              "      <td>-26.900000</td>\n",
              "      <td>5.045000</td>\n",
              "      <td>5228.100000</td>\n",
              "      <td>1.000000</td>\n",
              "    </tr>\n",
              "  </tbody>\n",
              "</table>\n",
              "</div>"
            ],
            "text/plain": [
              "           duration      campaign  ...   nr_employed             y\n",
              "count  41188.000000  41188.000000  ...  41188.000000  41188.000000\n",
              "mean     258.285010      2.567593  ...   5167.035911      0.112654\n",
              "std      259.279249      2.770014  ...     72.251528      0.316173\n",
              "min        0.000000      1.000000  ...   4963.600000      0.000000\n",
              "25%      102.000000      1.000000  ...   5099.100000      0.000000\n",
              "50%      180.000000      2.000000  ...   5191.000000      0.000000\n",
              "75%      319.000000      3.000000  ...   5228.100000      0.000000\n",
              "max     4918.000000     56.000000  ...   5228.100000      1.000000\n",
              "\n",
              "[8 rows x 10 columns]"
            ]
          },
          "metadata": {},
          "execution_count": 94
        }
      ]
    },
    {
      "cell_type": "code",
      "source": [
        "pb.isna().sum()"
      ],
      "metadata": {
        "colab": {
          "base_uri": "https://localhost:8080/"
        },
        "id": "DSc-6b7tJ4yA",
        "outputId": "417842b8-93b1-4deb-f0cf-084733a092bd"
      },
      "execution_count": 95,
      "outputs": [
        {
          "output_type": "execute_result",
          "data": {
            "text/plain": [
              "age               0\n",
              "job               0\n",
              "marital           0\n",
              "education         0\n",
              "default           0\n",
              "housing           0\n",
              "loan              0\n",
              "contact           0\n",
              "month             0\n",
              "day_of_week       0\n",
              "duration          0\n",
              "campaign          0\n",
              "pdays             0\n",
              "previous          0\n",
              "poutcome          0\n",
              "emp_var_rate      0\n",
              "cons_price_idx    0\n",
              "cons_conf_idx     0\n",
              "euribor3m         0\n",
              "nr_employed       0\n",
              "y                 0\n",
              "dtype: int64"
            ]
          },
          "metadata": {},
          "execution_count": 95
        }
      ]
    },
    {
      "cell_type": "code",
      "source": [
        "pb.info()"
      ],
      "metadata": {
        "colab": {
          "base_uri": "https://localhost:8080/"
        },
        "id": "QN2mfBknKA6u",
        "outputId": "98cf112f-2953-4781-cbaf-20cc57c251e8"
      },
      "execution_count": 96,
      "outputs": [
        {
          "output_type": "stream",
          "name": "stdout",
          "text": [
            "<class 'pandas.core.frame.DataFrame'>\n",
            "RangeIndex: 41188 entries, 0 to 41187\n",
            "Data columns (total 21 columns):\n",
            " #   Column          Non-Null Count  Dtype  \n",
            "---  ------          --------------  -----  \n",
            " 0   age             41188 non-null  object \n",
            " 1   job             41188 non-null  object \n",
            " 2   marital         41188 non-null  object \n",
            " 3   education       41188 non-null  object \n",
            " 4   default         41188 non-null  object \n",
            " 5   housing         41188 non-null  object \n",
            " 6   loan            41188 non-null  object \n",
            " 7   contact         41188 non-null  object \n",
            " 8   month           41188 non-null  object \n",
            " 9   day_of_week     41188 non-null  object \n",
            " 10  duration        41188 non-null  int64  \n",
            " 11  campaign        41188 non-null  int64  \n",
            " 12  pdays           41188 non-null  float64\n",
            " 13  previous        41188 non-null  int64  \n",
            " 14  poutcome        41188 non-null  object \n",
            " 15  emp_var_rate    41188 non-null  float64\n",
            " 16  cons_price_idx  41188 non-null  float64\n",
            " 17  cons_conf_idx   41188 non-null  float64\n",
            " 18  euribor3m       41188 non-null  float64\n",
            " 19  nr_employed     41188 non-null  float64\n",
            " 20  y               41188 non-null  int64  \n",
            "dtypes: float64(6), int64(4), object(11)\n",
            "memory usage: 6.6+ MB\n"
          ]
        }
      ]
    },
    {
      "cell_type": "code",
      "source": [
        "print(pb.age.unique())"
      ],
      "metadata": {
        "colab": {
          "base_uri": "https://localhost:8080/"
        },
        "id": "SkmuVB7NKLLy",
        "outputId": "38d9e324-5ecd-44cb-dccf-d835f488bce6"
      },
      "execution_count": 97,
      "outputs": [
        {
          "output_type": "stream",
          "name": "stdout",
          "text": [
            "['44' '53' '28' '39' '55' '30' '37' '36' '27' '34' '41' '33' '26' '52'\n",
            " '35' '40' '32' '49' '38' '47' '46' '29' '54' '42' '72' '48' '43' '56'\n",
            " '31' '24' '68' '59' '50' '45' '35-30' '25' '57' '63' '58' '60' '30-35'\n",
            " '64' '51' '23' '20' '74' '80' '61' '25-30' '62' '75' '21' '82' '77'\n",
            " '18-25' '30-32' '70' '50-55' '76' '73' '66' '22' '71' '19' '79' '88' '65'\n",
            " '67' '81' '18' '84' '69' '98' '85' '83' '78' '92' '45-50' '20-25' '20-40'\n",
            " '35-40' '86' '94' '17' '91' '89' '87' '95' '30-40' 56 39 30 53 37 22 45\n",
            " 31 24 50 58 33 27 28 32 51 41 49 43 44 35 29 26 57 25 42 48 46 67 38 34\n",
            " 54 40 23 47 62 75 55 36 52 59 78 70 60 20 66 61 21 88 18 68 71 73 80 79\n",
            " 63 76 83 65 19 86 17 72 69 81 64 77 74 85 82]\n"
          ]
        }
      ]
    },
    {
      "cell_type": "code",
      "source": [
        "pb['age'] = pb['age'].replace(['35-30', '30-35'],33)\n",
        "pb['age'] = pb['age'].replace(['25-30'],28)\n",
        "pb['age'] = pb['age'].replace(['18-25'],22)\n",
        "pb['age'] = pb['age'].replace(['30-32'],31)\n",
        "pb['age'] = pb['age'].replace(['50-55'],53)\n",
        "pb['age'] = pb['age'].replace(['45-50'],47)\n",
        "pb['age'] = pb['age'].replace(['20-25'],23)\n",
        "pb['age'] = pb['age'].replace(['20-40'],30)\n",
        "pb['age'] = pb['age'].replace(['35-40'],37)\n",
        "pb['age'] = pb['age'].replace(['30-40'],35)\n"
      ],
      "metadata": {
        "id": "OworojjOKW8k"
      },
      "execution_count": 98,
      "outputs": []
    },
    {
      "cell_type": "code",
      "source": [
        "pb.age.apply(pd.to_numeric)"
      ],
      "metadata": {
        "colab": {
          "base_uri": "https://localhost:8080/"
        },
        "id": "E9GLHBLiLwDL",
        "outputId": "96fdd27b-adce-493b-a114-b4f3e59d19e5"
      },
      "execution_count": 99,
      "outputs": [
        {
          "output_type": "execute_result",
          "data": {
            "text/plain": [
              "0        44\n",
              "1        53\n",
              "2        28\n",
              "3        39\n",
              "4        55\n",
              "         ..\n",
              "41183    59\n",
              "41184    31\n",
              "41185    42\n",
              "41186    48\n",
              "41187    25\n",
              "Name: age, Length: 41188, dtype: int64"
            ]
          },
          "metadata": {},
          "execution_count": 99
        }
      ]
    },
    {
      "cell_type": "code",
      "source": [
        "pb.marital.value_counts()"
      ],
      "metadata": {
        "colab": {
          "base_uri": "https://localhost:8080/"
        },
        "id": "IkcCn0LML9qP",
        "outputId": "d68d34c1-84b1-41dd-ef6c-38f9bdfa4b66"
      },
      "execution_count": 100,
      "outputs": [
        {
          "output_type": "execute_result",
          "data": {
            "text/plain": [
              "married     24923\n",
              "single      11565\n",
              "divorced     4608\n",
              "unknown        80\n",
              "M               5\n",
              "D               4\n",
              "S               3\n",
              "Name: marital, dtype: int64"
            ]
          },
          "metadata": {},
          "execution_count": 100
        }
      ]
    },
    {
      "cell_type": "code",
      "source": [
        "pb['marital'] = pb['marital'].replace(['M', 'unknown'], 'married')\n",
        "pb['marital'] = pb['marital'].replace(['S'], 'single')\n",
        "pb['marital'] = pb['marital'].replace(['D'], 'divorced')"
      ],
      "metadata": {
        "id": "xoLoVoFOMQev"
      },
      "execution_count": 101,
      "outputs": []
    },
    {
      "cell_type": "code",
      "source": [
        "pb.education.value_counts()"
      ],
      "metadata": {
        "colab": {
          "base_uri": "https://localhost:8080/"
        },
        "id": "DmSVCin0NCK4",
        "outputId": "e74276c3-f061-4b4d-a01e-5478a16e8993"
      },
      "execution_count": 102,
      "outputs": [
        {
          "output_type": "execute_result",
          "data": {
            "text/plain": [
              "university.degree      12168\n",
              "high.school             9515\n",
              "basic.9y                6035\n",
              "professional.course     5243\n",
              "basic.4y                4164\n",
              "basic.6y                2286\n",
              "unknown                 1731\n",
              "illiterate                18\n",
              "basic-4y                  12\n",
              "basic-9y                  10\n",
              "basic-6y                   6\n",
              "Name: education, dtype: int64"
            ]
          },
          "metadata": {},
          "execution_count": 102
        }
      ]
    },
    {
      "cell_type": "code",
      "source": [
        "pb['education'] = pb['education'].replace(['basic-4y'], 'basic.4y')\n",
        "pb['education'] = pb['education'].replace(['basic-9y'], 'basic.9y')\n",
        "pb['education'] = pb['education'].replace(['basic-6y'], 'basic.6y')\n",
        "pb['education'] = pb['education'].replace(['unknown'], 'university.degree')"
      ],
      "metadata": {
        "id": "w_nhmdHaNRlW"
      },
      "execution_count": 103,
      "outputs": []
    },
    {
      "cell_type": "code",
      "source": [
        "pb.default.value_counts()"
      ],
      "metadata": {
        "colab": {
          "base_uri": "https://localhost:8080/"
        },
        "id": "R-ebClWJN1tw",
        "outputId": "e74d3105-f3f4-4eb9-c336-81fc1c8b5eaa"
      },
      "execution_count": 104,
      "outputs": [
        {
          "output_type": "execute_result",
          "data": {
            "text/plain": [
              "no         32588\n",
              "unknown     8597\n",
              "yes            3\n",
              "Name: default, dtype: int64"
            ]
          },
          "metadata": {},
          "execution_count": 104
        }
      ]
    },
    {
      "cell_type": "code",
      "source": [
        "pb['default'] = pb['default'].replace(['unknown'], 'no')"
      ],
      "metadata": {
        "id": "B5VkhB7-N9vw"
      },
      "execution_count": 105,
      "outputs": []
    },
    {
      "cell_type": "code",
      "source": [
        "pb.housing.value_counts()"
      ],
      "metadata": {
        "colab": {
          "base_uri": "https://localhost:8080/"
        },
        "id": "o-pFmwseOTaS",
        "outputId": "4f752d40-b776-410f-96ab-2007926fd669"
      },
      "execution_count": 106,
      "outputs": [
        {
          "output_type": "execute_result",
          "data": {
            "text/plain": [
              "yes        21576\n",
              "no         18622\n",
              "unknown      990\n",
              "Name: housing, dtype: int64"
            ]
          },
          "metadata": {},
          "execution_count": 106
        }
      ]
    },
    {
      "cell_type": "code",
      "source": [
        "pb['housing'] = pb['housing'].replace(['unknown'], 'yes')"
      ],
      "metadata": {
        "id": "j6aRa0guOacH"
      },
      "execution_count": 107,
      "outputs": []
    },
    {
      "cell_type": "code",
      "source": [
        "pb.job.value_counts()"
      ],
      "metadata": {
        "colab": {
          "base_uri": "https://localhost:8080/"
        },
        "id": "InYg0qfPOg4D",
        "outputId": "a3468e4f-ec24-4354-f8d4-9172afea4e71"
      },
      "execution_count": 108,
      "outputs": [
        {
          "output_type": "execute_result",
          "data": {
            "text/plain": [
              "admin.           10420\n",
              "blue-collar       9253\n",
              "technician        6742\n",
              "services          3966\n",
              "management        2923\n",
              "retired           1717\n",
              "entrepreneur      1456\n",
              "self-employed     1421\n",
              "housemaid         1059\n",
              "unemployed        1014\n",
              "student            873\n",
              "unknown            329\n",
              "SERVICES             3\n",
              "RETIRED              3\n",
              "STUDENT              2\n",
              "ADMIN.               2\n",
              "UNKNOWN              1\n",
              "BLUE-COLLAR          1\n",
              "HOUSEMAID            1\n",
              "TECHNICIAN           1\n",
              "MANAGEMENT           1\n",
              "Name: job, dtype: int64"
            ]
          },
          "metadata": {},
          "execution_count": 108
        }
      ]
    },
    {
      "cell_type": "code",
      "source": [
        "pb['job'] = pb['job'].replace(['ADMIN.'], 'admin.')\n",
        "pb['job'] = pb['job'].replace(['SERVICES'], 'services')\n",
        "pb['job'] = pb['job'].replace(['unknown', 'UNKNOWN'], 'admin.')\n",
        "pb['job'] = pb['job'].replace(['STUDENT'], 'student')\n",
        "pb['job'] = pb['job'].replace(['RETIRED'], 'retired')\n",
        "pb['job'] = pb['job'].replace(['BLUE-COLLAR'], 'blue-collar')\n",
        "pb['job'] = pb['job'].replace(['HOUSEMAID'], 'housemaid')\n",
        "pb['job'] = pb['job'].replace(['TECHNICIAN'], 'technician')\n",
        "pb['job'] = pb['job'].replace(['MANAGEMENT'], 'management')"
      ],
      "metadata": {
        "id": "zNgDI-MHOp4k"
      },
      "execution_count": 109,
      "outputs": []
    },
    {
      "cell_type": "code",
      "source": [
        "pb.loan.value_counts()"
      ],
      "metadata": {
        "colab": {
          "base_uri": "https://localhost:8080/"
        },
        "id": "n1wPSNtiP3BS",
        "outputId": "d1bb98cd-02c2-41ca-9bfc-b00e5e1c1d84"
      },
      "execution_count": 110,
      "outputs": [
        {
          "output_type": "execute_result",
          "data": {
            "text/plain": [
              "no         33950\n",
              "yes         6248\n",
              "unknown      990\n",
              "Name: loan, dtype: int64"
            ]
          },
          "metadata": {},
          "execution_count": 110
        }
      ]
    },
    {
      "cell_type": "code",
      "source": [
        "pb['loan'] = pb['loan'].replace(['unknown'], 'no')"
      ],
      "metadata": {
        "id": "MWpqufnhQu7K"
      },
      "execution_count": 111,
      "outputs": []
    },
    {
      "cell_type": "code",
      "source": [
        "pb.contact.value_counts()"
      ],
      "metadata": {
        "colab": {
          "base_uri": "https://localhost:8080/"
        },
        "id": "AJmMeMBwQv63",
        "outputId": "fa33e873-c7d2-4439-bf72-3f2771b258aa"
      },
      "execution_count": 112,
      "outputs": [
        {
          "output_type": "execute_result",
          "data": {
            "text/plain": [
              "cellular     26144\n",
              "telephone    15044\n",
              "Name: contact, dtype: int64"
            ]
          },
          "metadata": {},
          "execution_count": 112
        }
      ]
    },
    {
      "cell_type": "code",
      "source": [
        "pb.month.value_counts()"
      ],
      "metadata": {
        "colab": {
          "base_uri": "https://localhost:8080/"
        },
        "id": "Si1GkZx5QyRY",
        "outputId": "3a4e0301-05a3-4c48-973a-af59304e467f"
      },
      "execution_count": 113,
      "outputs": [
        {
          "output_type": "execute_result",
          "data": {
            "text/plain": [
              "may    13769\n",
              "jul     7174\n",
              "aug     6178\n",
              "jun     5318\n",
              "nov     4101\n",
              "apr     2632\n",
              "oct      718\n",
              "sep      570\n",
              "mar      546\n",
              "dec      182\n",
              "Name: month, dtype: int64"
            ]
          },
          "metadata": {},
          "execution_count": 113
        }
      ]
    },
    {
      "cell_type": "code",
      "source": [
        "pb.day_of_week.value_counts()"
      ],
      "metadata": {
        "colab": {
          "base_uri": "https://localhost:8080/"
        },
        "id": "R8A47j-oRSlO",
        "outputId": "68111028-1960-4335-f0ab-2b0ca21286cf"
      },
      "execution_count": 114,
      "outputs": [
        {
          "output_type": "execute_result",
          "data": {
            "text/plain": [
              "thu    8623\n",
              "mon    8514\n",
              "wed    8134\n",
              "tue    8090\n",
              "fri    7827\n",
              "Name: day_of_week, dtype: int64"
            ]
          },
          "metadata": {},
          "execution_count": 114
        }
      ]
    },
    {
      "cell_type": "code",
      "source": [
        "pb.poutcome.value_counts()"
      ],
      "metadata": {
        "colab": {
          "base_uri": "https://localhost:8080/"
        },
        "id": "6N-Vk0tDRdBs",
        "outputId": "1ca0b509-35f8-47e9-8bf7-8ced9de83759"
      },
      "execution_count": 115,
      "outputs": [
        {
          "output_type": "execute_result",
          "data": {
            "text/plain": [
              "nonexistent    35563\n",
              "failure         4252\n",
              "success         1373\n",
              "Name: poutcome, dtype: int64"
            ]
          },
          "metadata": {},
          "execution_count": 115
        }
      ]
    },
    {
      "cell_type": "code",
      "source": [
        "pb['poutcome'] = pb['poutcome'].replace(['nonexistent'], 'failure')"
      ],
      "metadata": {
        "id": "N6cmzlo7RoEr"
      },
      "execution_count": 116,
      "outputs": []
    },
    {
      "cell_type": "code",
      "source": [
        "pb.head()"
      ],
      "metadata": {
        "colab": {
          "base_uri": "https://localhost:8080/",
          "height": 226
        },
        "id": "Jqdb36fyYcz_",
        "outputId": "fdb46a0a-c902-4650-a750-29204846f0ed"
      },
      "execution_count": 117,
      "outputs": [
        {
          "output_type": "execute_result",
          "data": {
            "text/html": [
              "<div>\n",
              "<style scoped>\n",
              "    .dataframe tbody tr th:only-of-type {\n",
              "        vertical-align: middle;\n",
              "    }\n",
              "\n",
              "    .dataframe tbody tr th {\n",
              "        vertical-align: top;\n",
              "    }\n",
              "\n",
              "    .dataframe thead th {\n",
              "        text-align: right;\n",
              "    }\n",
              "</style>\n",
              "<table border=\"1\" class=\"dataframe\">\n",
              "  <thead>\n",
              "    <tr style=\"text-align: right;\">\n",
              "      <th></th>\n",
              "      <th>age</th>\n",
              "      <th>job</th>\n",
              "      <th>marital</th>\n",
              "      <th>education</th>\n",
              "      <th>default</th>\n",
              "      <th>housing</th>\n",
              "      <th>loan</th>\n",
              "      <th>contact</th>\n",
              "      <th>month</th>\n",
              "      <th>day_of_week</th>\n",
              "      <th>duration</th>\n",
              "      <th>campaign</th>\n",
              "      <th>pdays</th>\n",
              "      <th>previous</th>\n",
              "      <th>poutcome</th>\n",
              "      <th>emp_var_rate</th>\n",
              "      <th>cons_price_idx</th>\n",
              "      <th>cons_conf_idx</th>\n",
              "      <th>euribor3m</th>\n",
              "      <th>nr_employed</th>\n",
              "      <th>y</th>\n",
              "    </tr>\n",
              "  </thead>\n",
              "  <tbody>\n",
              "    <tr>\n",
              "      <th>0</th>\n",
              "      <td>44</td>\n",
              "      <td>blue-collar</td>\n",
              "      <td>married</td>\n",
              "      <td>basic.4y</td>\n",
              "      <td>no</td>\n",
              "      <td>yes</td>\n",
              "      <td>no</td>\n",
              "      <td>cellular</td>\n",
              "      <td>aug</td>\n",
              "      <td>thu</td>\n",
              "      <td>210</td>\n",
              "      <td>1</td>\n",
              "      <td>999.0</td>\n",
              "      <td>0</td>\n",
              "      <td>failure</td>\n",
              "      <td>1.4</td>\n",
              "      <td>93.444</td>\n",
              "      <td>-36.1</td>\n",
              "      <td>4.963</td>\n",
              "      <td>5228.1</td>\n",
              "      <td>0</td>\n",
              "    </tr>\n",
              "    <tr>\n",
              "      <th>1</th>\n",
              "      <td>53</td>\n",
              "      <td>technician</td>\n",
              "      <td>married</td>\n",
              "      <td>university.degree</td>\n",
              "      <td>no</td>\n",
              "      <td>no</td>\n",
              "      <td>no</td>\n",
              "      <td>cellular</td>\n",
              "      <td>nov</td>\n",
              "      <td>fri</td>\n",
              "      <td>138</td>\n",
              "      <td>1</td>\n",
              "      <td>999.0</td>\n",
              "      <td>0</td>\n",
              "      <td>failure</td>\n",
              "      <td>-0.1</td>\n",
              "      <td>93.200</td>\n",
              "      <td>-42.0</td>\n",
              "      <td>4.021</td>\n",
              "      <td>5195.8</td>\n",
              "      <td>0</td>\n",
              "    </tr>\n",
              "    <tr>\n",
              "      <th>2</th>\n",
              "      <td>28</td>\n",
              "      <td>management</td>\n",
              "      <td>single</td>\n",
              "      <td>university.degree</td>\n",
              "      <td>no</td>\n",
              "      <td>yes</td>\n",
              "      <td>no</td>\n",
              "      <td>cellular</td>\n",
              "      <td>jun</td>\n",
              "      <td>thu</td>\n",
              "      <td>339</td>\n",
              "      <td>3</td>\n",
              "      <td>6.0</td>\n",
              "      <td>2</td>\n",
              "      <td>success</td>\n",
              "      <td>-1.7</td>\n",
              "      <td>94.055</td>\n",
              "      <td>-39.8</td>\n",
              "      <td>0.729</td>\n",
              "      <td>4991.6</td>\n",
              "      <td>1</td>\n",
              "    </tr>\n",
              "    <tr>\n",
              "      <th>3</th>\n",
              "      <td>39</td>\n",
              "      <td>services</td>\n",
              "      <td>married</td>\n",
              "      <td>high.school</td>\n",
              "      <td>no</td>\n",
              "      <td>no</td>\n",
              "      <td>no</td>\n",
              "      <td>cellular</td>\n",
              "      <td>apr</td>\n",
              "      <td>fri</td>\n",
              "      <td>185</td>\n",
              "      <td>2</td>\n",
              "      <td>999.0</td>\n",
              "      <td>0</td>\n",
              "      <td>failure</td>\n",
              "      <td>-1.8</td>\n",
              "      <td>93.075</td>\n",
              "      <td>-47.1</td>\n",
              "      <td>1.405</td>\n",
              "      <td>5099.1</td>\n",
              "      <td>0</td>\n",
              "    </tr>\n",
              "    <tr>\n",
              "      <th>4</th>\n",
              "      <td>55</td>\n",
              "      <td>retired</td>\n",
              "      <td>married</td>\n",
              "      <td>basic.4y</td>\n",
              "      <td>no</td>\n",
              "      <td>yes</td>\n",
              "      <td>no</td>\n",
              "      <td>cellular</td>\n",
              "      <td>aug</td>\n",
              "      <td>fri</td>\n",
              "      <td>137</td>\n",
              "      <td>1</td>\n",
              "      <td>3.0</td>\n",
              "      <td>1</td>\n",
              "      <td>success</td>\n",
              "      <td>-2.9</td>\n",
              "      <td>92.201</td>\n",
              "      <td>-31.4</td>\n",
              "      <td>0.869</td>\n",
              "      <td>5076.2</td>\n",
              "      <td>1</td>\n",
              "    </tr>\n",
              "  </tbody>\n",
              "</table>\n",
              "</div>"
            ],
            "text/plain": [
              "  age          job  marital  ... euribor3m nr_employed  y\n",
              "0  44  blue-collar  married  ...     4.963      5228.1  0\n",
              "1  53   technician  married  ...     4.021      5195.8  0\n",
              "2  28   management   single  ...     0.729      4991.6  1\n",
              "3  39     services  married  ...     1.405      5099.1  0\n",
              "4  55      retired  married  ...     0.869      5076.2  1\n",
              "\n",
              "[5 rows x 21 columns]"
            ]
          },
          "metadata": {},
          "execution_count": 117
        }
      ]
    },
    {
      "cell_type": "code",
      "source": [
        "from sklearn.preprocessing import LabelEncoder\n",
        "en = LabelEncoder()\n",
        "pb['job'] = en.fit_transform(pb['job'])\n",
        "pb['marital'] = en.fit_transform(pb['marital'])\n",
        "pb['education'] = en.fit_transform(pb['education'])\n",
        "pb['default'] = en.fit_transform(pb['default'])\n",
        "pb['housing'] = en.fit_transform(pb['housing'])\n",
        "pb['loan'] = en.fit_transform(pb['loan'])\n",
        "pb['contact'] = en.fit_transform(pb['contact'])\n",
        "pb['month'] = en.fit_transform(pb['month'])\n",
        "pb['day_of_week'] = en.fit_transform(pb['day_of_week'])\n",
        "pb['poutcome'] = en.fit_transform(pb['poutcome'])\n"
      ],
      "metadata": {
        "id": "I4PlC2xrYq3d"
      },
      "execution_count": 118,
      "outputs": []
    },
    {
      "cell_type": "code",
      "source": [
        "pb.head()"
      ],
      "metadata": {
        "colab": {
          "base_uri": "https://localhost:8080/",
          "height": 226
        },
        "id": "FGt7sTOba56Y",
        "outputId": "507177db-08c4-411c-d831-0d6958ef3b1b"
      },
      "execution_count": 119,
      "outputs": [
        {
          "output_type": "execute_result",
          "data": {
            "text/html": [
              "<div>\n",
              "<style scoped>\n",
              "    .dataframe tbody tr th:only-of-type {\n",
              "        vertical-align: middle;\n",
              "    }\n",
              "\n",
              "    .dataframe tbody tr th {\n",
              "        vertical-align: top;\n",
              "    }\n",
              "\n",
              "    .dataframe thead th {\n",
              "        text-align: right;\n",
              "    }\n",
              "</style>\n",
              "<table border=\"1\" class=\"dataframe\">\n",
              "  <thead>\n",
              "    <tr style=\"text-align: right;\">\n",
              "      <th></th>\n",
              "      <th>age</th>\n",
              "      <th>job</th>\n",
              "      <th>marital</th>\n",
              "      <th>education</th>\n",
              "      <th>default</th>\n",
              "      <th>housing</th>\n",
              "      <th>loan</th>\n",
              "      <th>contact</th>\n",
              "      <th>month</th>\n",
              "      <th>day_of_week</th>\n",
              "      <th>duration</th>\n",
              "      <th>campaign</th>\n",
              "      <th>pdays</th>\n",
              "      <th>previous</th>\n",
              "      <th>poutcome</th>\n",
              "      <th>emp_var_rate</th>\n",
              "      <th>cons_price_idx</th>\n",
              "      <th>cons_conf_idx</th>\n",
              "      <th>euribor3m</th>\n",
              "      <th>nr_employed</th>\n",
              "      <th>y</th>\n",
              "    </tr>\n",
              "  </thead>\n",
              "  <tbody>\n",
              "    <tr>\n",
              "      <th>0</th>\n",
              "      <td>44</td>\n",
              "      <td>1</td>\n",
              "      <td>1</td>\n",
              "      <td>0</td>\n",
              "      <td>0</td>\n",
              "      <td>1</td>\n",
              "      <td>0</td>\n",
              "      <td>0</td>\n",
              "      <td>1</td>\n",
              "      <td>2</td>\n",
              "      <td>210</td>\n",
              "      <td>1</td>\n",
              "      <td>999.0</td>\n",
              "      <td>0</td>\n",
              "      <td>0</td>\n",
              "      <td>1.4</td>\n",
              "      <td>93.444</td>\n",
              "      <td>-36.1</td>\n",
              "      <td>4.963</td>\n",
              "      <td>5228.1</td>\n",
              "      <td>0</td>\n",
              "    </tr>\n",
              "    <tr>\n",
              "      <th>1</th>\n",
              "      <td>53</td>\n",
              "      <td>9</td>\n",
              "      <td>1</td>\n",
              "      <td>6</td>\n",
              "      <td>0</td>\n",
              "      <td>0</td>\n",
              "      <td>0</td>\n",
              "      <td>0</td>\n",
              "      <td>7</td>\n",
              "      <td>0</td>\n",
              "      <td>138</td>\n",
              "      <td>1</td>\n",
              "      <td>999.0</td>\n",
              "      <td>0</td>\n",
              "      <td>0</td>\n",
              "      <td>-0.1</td>\n",
              "      <td>93.200</td>\n",
              "      <td>-42.0</td>\n",
              "      <td>4.021</td>\n",
              "      <td>5195.8</td>\n",
              "      <td>0</td>\n",
              "    </tr>\n",
              "    <tr>\n",
              "      <th>2</th>\n",
              "      <td>28</td>\n",
              "      <td>4</td>\n",
              "      <td>2</td>\n",
              "      <td>6</td>\n",
              "      <td>0</td>\n",
              "      <td>1</td>\n",
              "      <td>0</td>\n",
              "      <td>0</td>\n",
              "      <td>4</td>\n",
              "      <td>2</td>\n",
              "      <td>339</td>\n",
              "      <td>3</td>\n",
              "      <td>6.0</td>\n",
              "      <td>2</td>\n",
              "      <td>1</td>\n",
              "      <td>-1.7</td>\n",
              "      <td>94.055</td>\n",
              "      <td>-39.8</td>\n",
              "      <td>0.729</td>\n",
              "      <td>4991.6</td>\n",
              "      <td>1</td>\n",
              "    </tr>\n",
              "    <tr>\n",
              "      <th>3</th>\n",
              "      <td>39</td>\n",
              "      <td>7</td>\n",
              "      <td>1</td>\n",
              "      <td>3</td>\n",
              "      <td>0</td>\n",
              "      <td>0</td>\n",
              "      <td>0</td>\n",
              "      <td>0</td>\n",
              "      <td>0</td>\n",
              "      <td>0</td>\n",
              "      <td>185</td>\n",
              "      <td>2</td>\n",
              "      <td>999.0</td>\n",
              "      <td>0</td>\n",
              "      <td>0</td>\n",
              "      <td>-1.8</td>\n",
              "      <td>93.075</td>\n",
              "      <td>-47.1</td>\n",
              "      <td>1.405</td>\n",
              "      <td>5099.1</td>\n",
              "      <td>0</td>\n",
              "    </tr>\n",
              "    <tr>\n",
              "      <th>4</th>\n",
              "      <td>55</td>\n",
              "      <td>5</td>\n",
              "      <td>1</td>\n",
              "      <td>0</td>\n",
              "      <td>0</td>\n",
              "      <td>1</td>\n",
              "      <td>0</td>\n",
              "      <td>0</td>\n",
              "      <td>1</td>\n",
              "      <td>0</td>\n",
              "      <td>137</td>\n",
              "      <td>1</td>\n",
              "      <td>3.0</td>\n",
              "      <td>1</td>\n",
              "      <td>1</td>\n",
              "      <td>-2.9</td>\n",
              "      <td>92.201</td>\n",
              "      <td>-31.4</td>\n",
              "      <td>0.869</td>\n",
              "      <td>5076.2</td>\n",
              "      <td>1</td>\n",
              "    </tr>\n",
              "  </tbody>\n",
              "</table>\n",
              "</div>"
            ],
            "text/plain": [
              "  age  job  marital  education  ...  cons_conf_idx  euribor3m  nr_employed  y\n",
              "0  44    1        1          0  ...          -36.1      4.963       5228.1  0\n",
              "1  53    9        1          6  ...          -42.0      4.021       5195.8  0\n",
              "2  28    4        2          6  ...          -39.8      0.729       4991.6  1\n",
              "3  39    7        1          3  ...          -47.1      1.405       5099.1  0\n",
              "4  55    5        1          0  ...          -31.4      0.869       5076.2  1\n",
              "\n",
              "[5 rows x 21 columns]"
            ]
          },
          "metadata": {},
          "execution_count": 119
        }
      ]
    },
    {
      "cell_type": "code",
      "source": [
        "corr= pb.corr()\n",
        "corr"
      ],
      "metadata": {
        "colab": {
          "base_uri": "https://localhost:8080/",
          "height": 697
        },
        "id": "ntG8nd4VbPg8",
        "outputId": "42c29aa1-f146-4a1b-c742-7f9d202af8df"
      },
      "execution_count": 120,
      "outputs": [
        {
          "output_type": "execute_result",
          "data": {
            "text/html": [
              "<div>\n",
              "<style scoped>\n",
              "    .dataframe tbody tr th:only-of-type {\n",
              "        vertical-align: middle;\n",
              "    }\n",
              "\n",
              "    .dataframe tbody tr th {\n",
              "        vertical-align: top;\n",
              "    }\n",
              "\n",
              "    .dataframe thead th {\n",
              "        text-align: right;\n",
              "    }\n",
              "</style>\n",
              "<table border=\"1\" class=\"dataframe\">\n",
              "  <thead>\n",
              "    <tr style=\"text-align: right;\">\n",
              "      <th></th>\n",
              "      <th>job</th>\n",
              "      <th>marital</th>\n",
              "      <th>education</th>\n",
              "      <th>default</th>\n",
              "      <th>housing</th>\n",
              "      <th>loan</th>\n",
              "      <th>contact</th>\n",
              "      <th>month</th>\n",
              "      <th>day_of_week</th>\n",
              "      <th>duration</th>\n",
              "      <th>campaign</th>\n",
              "      <th>pdays</th>\n",
              "      <th>previous</th>\n",
              "      <th>poutcome</th>\n",
              "      <th>emp_var_rate</th>\n",
              "      <th>cons_price_idx</th>\n",
              "      <th>cons_conf_idx</th>\n",
              "      <th>euribor3m</th>\n",
              "      <th>nr_employed</th>\n",
              "      <th>y</th>\n",
              "    </tr>\n",
              "  </thead>\n",
              "  <tbody>\n",
              "    <tr>\n",
              "      <th>job</th>\n",
              "      <td>1.000000</td>\n",
              "      <td>0.025462</td>\n",
              "      <td>0.131869</td>\n",
              "      <td>0.013698</td>\n",
              "      <td>0.007516</td>\n",
              "      <td>-0.011832</td>\n",
              "      <td>-0.031929</td>\n",
              "      <td>-0.033206</td>\n",
              "      <td>-0.004111</td>\n",
              "      <td>-0.004790</td>\n",
              "      <td>-0.007736</td>\n",
              "      <td>-0.026782</td>\n",
              "      <td>0.022154</td>\n",
              "      <td>0.022601</td>\n",
              "      <td>-0.012738</td>\n",
              "      <td>-0.022366</td>\n",
              "      <td>0.044282</td>\n",
              "      <td>-0.012672</td>\n",
              "      <td>-0.021848</td>\n",
              "      <td>0.025482</td>\n",
              "    </tr>\n",
              "    <tr>\n",
              "      <th>marital</th>\n",
              "      <td>0.025462</td>\n",
              "      <td>1.000000</td>\n",
              "      <td>0.111405</td>\n",
              "      <td>-0.002388</td>\n",
              "      <td>0.011312</td>\n",
              "      <td>0.006483</td>\n",
              "      <td>-0.054610</td>\n",
              "      <td>-0.008824</td>\n",
              "      <td>0.002473</td>\n",
              "      <td>0.009030</td>\n",
              "      <td>-0.008745</td>\n",
              "      <td>-0.029326</td>\n",
              "      <td>0.037703</td>\n",
              "      <td>0.034760</td>\n",
              "      <td>-0.083709</td>\n",
              "      <td>-0.056822</td>\n",
              "      <td>-0.033639</td>\n",
              "      <td>-0.091604</td>\n",
              "      <td>-0.086099</td>\n",
              "      <td>0.045849</td>\n",
              "    </tr>\n",
              "    <tr>\n",
              "      <th>education</th>\n",
              "      <td>0.131869</td>\n",
              "      <td>0.111405</td>\n",
              "      <td>1.000000</td>\n",
              "      <td>0.002576</td>\n",
              "      <td>0.016465</td>\n",
              "      <td>0.009242</td>\n",
              "      <td>-0.110515</td>\n",
              "      <td>-0.084505</td>\n",
              "      <td>-0.016828</td>\n",
              "      <td>-0.015823</td>\n",
              "      <td>0.000172</td>\n",
              "      <td>-0.041129</td>\n",
              "      <td>0.037680</td>\n",
              "      <td>0.044440</td>\n",
              "      <td>-0.044648</td>\n",
              "      <td>-0.086668</td>\n",
              "      <td>0.078166</td>\n",
              "      <td>-0.036762</td>\n",
              "      <td>-0.040502</td>\n",
              "      <td>0.057268</td>\n",
              "    </tr>\n",
              "    <tr>\n",
              "      <th>default</th>\n",
              "      <td>0.013698</td>\n",
              "      <td>-0.002388</td>\n",
              "      <td>0.002576</td>\n",
              "      <td>1.000000</td>\n",
              "      <td>-0.003679</td>\n",
              "      <td>-0.003609</td>\n",
              "      <td>-0.006474</td>\n",
              "      <td>-0.004528</td>\n",
              "      <td>0.006079</td>\n",
              "      <td>-0.005101</td>\n",
              "      <td>-0.003803</td>\n",
              "      <td>0.001428</td>\n",
              "      <td>0.002766</td>\n",
              "      <td>-0.001585</td>\n",
              "      <td>0.004445</td>\n",
              "      <td>-0.003141</td>\n",
              "      <td>0.004492</td>\n",
              "      <td>0.005274</td>\n",
              "      <td>0.005941</td>\n",
              "      <td>-0.003041</td>\n",
              "    </tr>\n",
              "    <tr>\n",
              "      <th>housing</th>\n",
              "      <td>0.007516</td>\n",
              "      <td>0.011312</td>\n",
              "      <td>0.016465</td>\n",
              "      <td>-0.003679</td>\n",
              "      <td>1.000000</td>\n",
              "      <td>0.036425</td>\n",
              "      <td>-0.077937</td>\n",
              "      <td>-0.017006</td>\n",
              "      <td>0.003348</td>\n",
              "      <td>-0.008334</td>\n",
              "      <td>-0.010959</td>\n",
              "      <td>-0.010474</td>\n",
              "      <td>0.021677</td>\n",
              "      <td>0.011349</td>\n",
              "      <td>-0.059100</td>\n",
              "      <td>-0.077170</td>\n",
              "      <td>-0.032388</td>\n",
              "      <td>-0.058233</td>\n",
              "      <td>-0.045590</td>\n",
              "      <td>0.011085</td>\n",
              "    </tr>\n",
              "    <tr>\n",
              "      <th>loan</th>\n",
              "      <td>-0.011832</td>\n",
              "      <td>0.006483</td>\n",
              "      <td>0.009242</td>\n",
              "      <td>-0.003609</td>\n",
              "      <td>0.036425</td>\n",
              "      <td>1.000000</td>\n",
              "      <td>-0.013367</td>\n",
              "      <td>-0.007073</td>\n",
              "      <td>-0.009483</td>\n",
              "      <td>0.000121</td>\n",
              "      <td>0.005294</td>\n",
              "      <td>0.000619</td>\n",
              "      <td>-0.002143</td>\n",
              "      <td>-0.000481</td>\n",
              "      <td>0.001193</td>\n",
              "      <td>-0.005944</td>\n",
              "      <td>-0.013673</td>\n",
              "      <td>-0.000487</td>\n",
              "      <td>0.004205</td>\n",
              "      <td>-0.004466</td>\n",
              "    </tr>\n",
              "    <tr>\n",
              "      <th>contact</th>\n",
              "      <td>-0.031929</td>\n",
              "      <td>-0.054610</td>\n",
              "      <td>-0.110515</td>\n",
              "      <td>-0.006474</td>\n",
              "      <td>-0.077937</td>\n",
              "      <td>-0.013367</td>\n",
              "      <td>1.000000</td>\n",
              "      <td>0.276565</td>\n",
              "      <td>-0.009575</td>\n",
              "      <td>-0.026657</td>\n",
              "      <td>0.077368</td>\n",
              "      <td>0.102350</td>\n",
              "      <td>-0.212848</td>\n",
              "      <td>-0.111934</td>\n",
              "      <td>0.393584</td>\n",
              "      <td>0.591474</td>\n",
              "      <td>0.251614</td>\n",
              "      <td>0.399773</td>\n",
              "      <td>0.269155</td>\n",
              "      <td>-0.144773</td>\n",
              "    </tr>\n",
              "    <tr>\n",
              "      <th>month</th>\n",
              "      <td>-0.033206</td>\n",
              "      <td>-0.008824</td>\n",
              "      <td>-0.084505</td>\n",
              "      <td>-0.004528</td>\n",
              "      <td>-0.017006</td>\n",
              "      <td>-0.007073</td>\n",
              "      <td>0.276565</td>\n",
              "      <td>1.000000</td>\n",
              "      <td>0.027677</td>\n",
              "      <td>0.003690</td>\n",
              "      <td>-0.062059</td>\n",
              "      <td>-0.047230</td>\n",
              "      <td>0.103157</td>\n",
              "      <td>0.043491</td>\n",
              "      <td>-0.178782</td>\n",
              "      <td>-0.004239</td>\n",
              "      <td>0.009652</td>\n",
              "      <td>-0.117264</td>\n",
              "      <td>-0.221425</td>\n",
              "      <td>-0.006065</td>\n",
              "    </tr>\n",
              "    <tr>\n",
              "      <th>day_of_week</th>\n",
              "      <td>-0.004111</td>\n",
              "      <td>0.002473</td>\n",
              "      <td>-0.016828</td>\n",
              "      <td>0.006079</td>\n",
              "      <td>0.003348</td>\n",
              "      <td>-0.009483</td>\n",
              "      <td>-0.009575</td>\n",
              "      <td>0.027677</td>\n",
              "      <td>1.000000</td>\n",
              "      <td>0.021950</td>\n",
              "      <td>-0.038288</td>\n",
              "      <td>-0.009167</td>\n",
              "      <td>-0.004102</td>\n",
              "      <td>0.010226</td>\n",
              "      <td>0.033245</td>\n",
              "      <td>0.005644</td>\n",
              "      <td>0.041465</td>\n",
              "      <td>0.039043</td>\n",
              "      <td>0.028380</td>\n",
              "      <td>0.015967</td>\n",
              "    </tr>\n",
              "    <tr>\n",
              "      <th>duration</th>\n",
              "      <td>-0.004790</td>\n",
              "      <td>0.009030</td>\n",
              "      <td>-0.015823</td>\n",
              "      <td>-0.005101</td>\n",
              "      <td>-0.008334</td>\n",
              "      <td>0.000121</td>\n",
              "      <td>-0.026657</td>\n",
              "      <td>0.003690</td>\n",
              "      <td>0.021950</td>\n",
              "      <td>1.000000</td>\n",
              "      <td>-0.071699</td>\n",
              "      <td>-0.044035</td>\n",
              "      <td>0.020640</td>\n",
              "      <td>0.044876</td>\n",
              "      <td>-0.027968</td>\n",
              "      <td>0.005312</td>\n",
              "      <td>-0.008173</td>\n",
              "      <td>-0.032897</td>\n",
              "      <td>-0.044703</td>\n",
              "      <td>0.405274</td>\n",
              "    </tr>\n",
              "    <tr>\n",
              "      <th>campaign</th>\n",
              "      <td>-0.007736</td>\n",
              "      <td>-0.008745</td>\n",
              "      <td>0.000172</td>\n",
              "      <td>-0.003803</td>\n",
              "      <td>-0.010959</td>\n",
              "      <td>0.005294</td>\n",
              "      <td>0.077368</td>\n",
              "      <td>-0.062059</td>\n",
              "      <td>-0.038288</td>\n",
              "      <td>-0.071699</td>\n",
              "      <td>1.000000</td>\n",
              "      <td>0.045353</td>\n",
              "      <td>-0.079141</td>\n",
              "      <td>-0.050893</td>\n",
              "      <td>0.150754</td>\n",
              "      <td>0.127836</td>\n",
              "      <td>-0.013733</td>\n",
              "      <td>0.135133</td>\n",
              "      <td>0.144095</td>\n",
              "      <td>-0.066357</td>\n",
              "    </tr>\n",
              "    <tr>\n",
              "      <th>pdays</th>\n",
              "      <td>-0.026782</td>\n",
              "      <td>-0.029326</td>\n",
              "      <td>-0.041129</td>\n",
              "      <td>0.001428</td>\n",
              "      <td>-0.010474</td>\n",
              "      <td>0.000619</td>\n",
              "      <td>0.102350</td>\n",
              "      <td>-0.047230</td>\n",
              "      <td>-0.009167</td>\n",
              "      <td>-0.044035</td>\n",
              "      <td>0.045353</td>\n",
              "      <td>1.000000</td>\n",
              "      <td>-0.518260</td>\n",
              "      <td>-0.840049</td>\n",
              "      <td>0.241416</td>\n",
              "      <td>0.070331</td>\n",
              "      <td>-0.082578</td>\n",
              "      <td>0.263918</td>\n",
              "      <td>0.331380</td>\n",
              "      <td>-0.288609</td>\n",
              "    </tr>\n",
              "    <tr>\n",
              "      <th>previous</th>\n",
              "      <td>0.022154</td>\n",
              "      <td>0.037703</td>\n",
              "      <td>0.037680</td>\n",
              "      <td>0.002766</td>\n",
              "      <td>0.021677</td>\n",
              "      <td>-0.002143</td>\n",
              "      <td>-0.212848</td>\n",
              "      <td>0.103157</td>\n",
              "      <td>-0.004102</td>\n",
              "      <td>0.020640</td>\n",
              "      <td>-0.079141</td>\n",
              "      <td>-0.518260</td>\n",
              "      <td>1.000000</td>\n",
              "      <td>0.524045</td>\n",
              "      <td>-0.420489</td>\n",
              "      <td>-0.203130</td>\n",
              "      <td>-0.050936</td>\n",
              "      <td>-0.454494</td>\n",
              "      <td>-0.501333</td>\n",
              "      <td>0.230181</td>\n",
              "    </tr>\n",
              "    <tr>\n",
              "      <th>poutcome</th>\n",
              "      <td>0.022601</td>\n",
              "      <td>0.034760</td>\n",
              "      <td>0.044440</td>\n",
              "      <td>-0.001585</td>\n",
              "      <td>0.011349</td>\n",
              "      <td>-0.000481</td>\n",
              "      <td>-0.111934</td>\n",
              "      <td>0.043491</td>\n",
              "      <td>0.010226</td>\n",
              "      <td>0.044876</td>\n",
              "      <td>-0.050893</td>\n",
              "      <td>-0.840049</td>\n",
              "      <td>0.524045</td>\n",
              "      <td>1.000000</td>\n",
              "      <td>-0.256886</td>\n",
              "      <td>-0.077416</td>\n",
              "      <td>0.084824</td>\n",
              "      <td>-0.281022</td>\n",
              "      <td>-0.350613</td>\n",
              "      <td>0.316269</td>\n",
              "    </tr>\n",
              "    <tr>\n",
              "      <th>emp_var_rate</th>\n",
              "      <td>-0.012738</td>\n",
              "      <td>-0.083709</td>\n",
              "      <td>-0.044648</td>\n",
              "      <td>0.004445</td>\n",
              "      <td>-0.059100</td>\n",
              "      <td>0.001193</td>\n",
              "      <td>0.393584</td>\n",
              "      <td>-0.178782</td>\n",
              "      <td>0.033245</td>\n",
              "      <td>-0.027968</td>\n",
              "      <td>0.150754</td>\n",
              "      <td>0.241416</td>\n",
              "      <td>-0.420489</td>\n",
              "      <td>-0.256886</td>\n",
              "      <td>1.000000</td>\n",
              "      <td>0.775334</td>\n",
              "      <td>0.196041</td>\n",
              "      <td>0.972245</td>\n",
              "      <td>0.906970</td>\n",
              "      <td>-0.298334</td>\n",
              "    </tr>\n",
              "    <tr>\n",
              "      <th>cons_price_idx</th>\n",
              "      <td>-0.022366</td>\n",
              "      <td>-0.056822</td>\n",
              "      <td>-0.086668</td>\n",
              "      <td>-0.003141</td>\n",
              "      <td>-0.077170</td>\n",
              "      <td>-0.005944</td>\n",
              "      <td>0.591474</td>\n",
              "      <td>-0.004239</td>\n",
              "      <td>0.005644</td>\n",
              "      <td>0.005312</td>\n",
              "      <td>0.127836</td>\n",
              "      <td>0.070331</td>\n",
              "      <td>-0.203130</td>\n",
              "      <td>-0.077416</td>\n",
              "      <td>0.775334</td>\n",
              "      <td>1.000000</td>\n",
              "      <td>0.058986</td>\n",
              "      <td>0.688230</td>\n",
              "      <td>0.522034</td>\n",
              "      <td>-0.136211</td>\n",
              "    </tr>\n",
              "    <tr>\n",
              "      <th>cons_conf_idx</th>\n",
              "      <td>0.044282</td>\n",
              "      <td>-0.033639</td>\n",
              "      <td>0.078166</td>\n",
              "      <td>0.004492</td>\n",
              "      <td>-0.032388</td>\n",
              "      <td>-0.013673</td>\n",
              "      <td>0.251614</td>\n",
              "      <td>0.009652</td>\n",
              "      <td>0.041465</td>\n",
              "      <td>-0.008173</td>\n",
              "      <td>-0.013733</td>\n",
              "      <td>-0.082578</td>\n",
              "      <td>-0.050936</td>\n",
              "      <td>0.084824</td>\n",
              "      <td>0.196041</td>\n",
              "      <td>0.058986</td>\n",
              "      <td>1.000000</td>\n",
              "      <td>0.277686</td>\n",
              "      <td>0.100513</td>\n",
              "      <td>0.054878</td>\n",
              "    </tr>\n",
              "    <tr>\n",
              "      <th>euribor3m</th>\n",
              "      <td>-0.012672</td>\n",
              "      <td>-0.091604</td>\n",
              "      <td>-0.036762</td>\n",
              "      <td>0.005274</td>\n",
              "      <td>-0.058233</td>\n",
              "      <td>-0.000487</td>\n",
              "      <td>0.399773</td>\n",
              "      <td>-0.117264</td>\n",
              "      <td>0.039043</td>\n",
              "      <td>-0.032897</td>\n",
              "      <td>0.135133</td>\n",
              "      <td>0.263918</td>\n",
              "      <td>-0.454494</td>\n",
              "      <td>-0.281022</td>\n",
              "      <td>0.972245</td>\n",
              "      <td>0.688230</td>\n",
              "      <td>0.277686</td>\n",
              "      <td>1.000000</td>\n",
              "      <td>0.945154</td>\n",
              "      <td>-0.307771</td>\n",
              "    </tr>\n",
              "    <tr>\n",
              "      <th>nr_employed</th>\n",
              "      <td>-0.021848</td>\n",
              "      <td>-0.086099</td>\n",
              "      <td>-0.040502</td>\n",
              "      <td>0.005941</td>\n",
              "      <td>-0.045590</td>\n",
              "      <td>0.004205</td>\n",
              "      <td>0.269155</td>\n",
              "      <td>-0.221425</td>\n",
              "      <td>0.028380</td>\n",
              "      <td>-0.044703</td>\n",
              "      <td>0.144095</td>\n",
              "      <td>0.331380</td>\n",
              "      <td>-0.501333</td>\n",
              "      <td>-0.350613</td>\n",
              "      <td>0.906970</td>\n",
              "      <td>0.522034</td>\n",
              "      <td>0.100513</td>\n",
              "      <td>0.945154</td>\n",
              "      <td>1.000000</td>\n",
              "      <td>-0.354678</td>\n",
              "    </tr>\n",
              "    <tr>\n",
              "      <th>y</th>\n",
              "      <td>0.025482</td>\n",
              "      <td>0.045849</td>\n",
              "      <td>0.057268</td>\n",
              "      <td>-0.003041</td>\n",
              "      <td>0.011085</td>\n",
              "      <td>-0.004466</td>\n",
              "      <td>-0.144773</td>\n",
              "      <td>-0.006065</td>\n",
              "      <td>0.015967</td>\n",
              "      <td>0.405274</td>\n",
              "      <td>-0.066357</td>\n",
              "      <td>-0.288609</td>\n",
              "      <td>0.230181</td>\n",
              "      <td>0.316269</td>\n",
              "      <td>-0.298334</td>\n",
              "      <td>-0.136211</td>\n",
              "      <td>0.054878</td>\n",
              "      <td>-0.307771</td>\n",
              "      <td>-0.354678</td>\n",
              "      <td>1.000000</td>\n",
              "    </tr>\n",
              "  </tbody>\n",
              "</table>\n",
              "</div>"
            ],
            "text/plain": [
              "                     job   marital  education  ...  euribor3m  nr_employed         y\n",
              "job             1.000000  0.025462   0.131869  ...  -0.012672    -0.021848  0.025482\n",
              "marital         0.025462  1.000000   0.111405  ...  -0.091604    -0.086099  0.045849\n",
              "education       0.131869  0.111405   1.000000  ...  -0.036762    -0.040502  0.057268\n",
              "default         0.013698 -0.002388   0.002576  ...   0.005274     0.005941 -0.003041\n",
              "housing         0.007516  0.011312   0.016465  ...  -0.058233    -0.045590  0.011085\n",
              "loan           -0.011832  0.006483   0.009242  ...  -0.000487     0.004205 -0.004466\n",
              "contact        -0.031929 -0.054610  -0.110515  ...   0.399773     0.269155 -0.144773\n",
              "month          -0.033206 -0.008824  -0.084505  ...  -0.117264    -0.221425 -0.006065\n",
              "day_of_week    -0.004111  0.002473  -0.016828  ...   0.039043     0.028380  0.015967\n",
              "duration       -0.004790  0.009030  -0.015823  ...  -0.032897    -0.044703  0.405274\n",
              "campaign       -0.007736 -0.008745   0.000172  ...   0.135133     0.144095 -0.066357\n",
              "pdays          -0.026782 -0.029326  -0.041129  ...   0.263918     0.331380 -0.288609\n",
              "previous        0.022154  0.037703   0.037680  ...  -0.454494    -0.501333  0.230181\n",
              "poutcome        0.022601  0.034760   0.044440  ...  -0.281022    -0.350613  0.316269\n",
              "emp_var_rate   -0.012738 -0.083709  -0.044648  ...   0.972245     0.906970 -0.298334\n",
              "cons_price_idx -0.022366 -0.056822  -0.086668  ...   0.688230     0.522034 -0.136211\n",
              "cons_conf_idx   0.044282 -0.033639   0.078166  ...   0.277686     0.100513  0.054878\n",
              "euribor3m      -0.012672 -0.091604  -0.036762  ...   1.000000     0.945154 -0.307771\n",
              "nr_employed    -0.021848 -0.086099  -0.040502  ...   0.945154     1.000000 -0.354678\n",
              "y               0.025482  0.045849   0.057268  ...  -0.307771    -0.354678  1.000000\n",
              "\n",
              "[20 rows x 20 columns]"
            ]
          },
          "metadata": {},
          "execution_count": 120
        }
      ]
    },
    {
      "cell_type": "code",
      "source": [
        "plt.figure(figsize=(21,21))\n",
        "sns.heatmap(corr, annot=True, cmap='cubehelix_r',square=True) \n",
        "plt.show()"
      ],
      "metadata": {
        "colab": {
          "base_uri": "https://localhost:8080/",
          "height": 1000
        },
        "id": "NtzlujH-bwpG",
        "outputId": "2aa176aa-8386-4dcd-cd6e-2aa28723c01b"
      },
      "execution_count": 123,
      "outputs": [
        {
          "output_type": "display_data",
          "data": {
            "image/png": "[encoded data removed]",
            "text/plain": [
              "<Figure size 1512x1512 with 2 Axes>"
            ]
          },
          "metadata": {
            "needs_background": "light"
          }
        }
      ]
    },
    {
      "cell_type": "code",
      "source": [
        "x = pb.drop(['y'], axis=1)\n",
        "y = pb['y']"
      ],
      "metadata": {
        "id": "uU5HQgwxcF-1"
      },
      "execution_count": 124,
      "outputs": []
    },
    {
      "cell_type": "code",
      "source": [
        "from sklearn.model_selection import train_test_split\n",
        "x_train,x_test, y_train, y_test = train_test_split(x, y, test_size=0.25, random_state= 1)\n"
      ],
      "metadata": {
        "id": "uQ-f-bsScdXV"
      },
      "execution_count": 126,
      "outputs": []
    },
    {
      "cell_type": "code",
      "source": [
        "from sklearn.linear_model import LogisticRegression"
      ],
      "metadata": {
        "id": "QVtIzPUEeQTF"
      },
      "execution_count": 127,
      "outputs": []
    },
    {
      "cell_type": "code",
      "source": [
        "model = LogisticRegression()\n",
        "model.fit(x_train,y_train)\n",
        "y_pred = model.predict(x_test)"
      ],
      "metadata": {
        "id": "hyjf2fNXeXXl"
      },
      "execution_count": 128,
      "outputs": []
    },
    {
      "cell_type": "code",
      "source": [
        "from sklearn.metrics import accuracy_score\n"
      ],
      "metadata": {
        "id": "PYyQCBS2euWF"
      },
      "execution_count": 129,
      "outputs": []
    },
    {
      "cell_type": "code",
      "source": [
        "acc = model.score(x_test, y_test)\n",
        "print(acc)"
      ],
      "metadata": {
        "colab": {
          "base_uri": "https://localhost:8080/"
        },
        "id": "3aC6xHe9e8ci",
        "outputId": "7e7c5a62-af3f-410f-e617-1a172035a4f2"
      },
      "execution_count": 130,
      "outputs": [
        {
          "output_type": "stream",
          "name": "stdout",
          "text": [
            "0.9080314654753812\n"
          ]
        }
      ]
    },
    {
      "cell_type": "code",
      "source": [
        "from sklearn.metrics import confusion_matrix\n"
      ],
      "metadata": {
        "id": "38LlAhRPfSFs"
      },
      "execution_count": 132,
      "outputs": []
    },
    {
      "cell_type": "code",
      "source": [
        "print(confusion_matrix(y_test, y_pred))"
      ],
      "metadata": {
        "colab": {
          "base_uri": "https://localhost:8080/"
        },
        "id": "ALKX8NJYfl9-",
        "outputId": "184cf15a-84fa-4f1d-8a4a-896f2e0cb10e"
      },
      "execution_count": 133,
      "outputs": [
        {
          "output_type": "stream",
          "name": "stdout",
          "text": [
            "[[8867  247]\n",
            " [ 700  483]]\n"
          ]
        }
      ]
    },
    {
      "cell_type": "code",
      "source": [
        "from sklearn.metrics import classification_report\n",
        "print(classification_report(y_test, y_pred))"
      ],
      "metadata": {
        "colab": {
          "base_uri": "https://localhost:8080/"
        },
        "id": "qT3aM7QygAU0",
        "outputId": "17728000-cca1-44da-bb4f-c25524f1e259"
      },
      "execution_count": 135,
      "outputs": [
        {
          "output_type": "stream",
          "name": "stdout",
          "text": [
            "              precision    recall  f1-score   support\n",
            "\n",
            "           0       0.93      0.97      0.95      9114\n",
            "           1       0.66      0.41      0.50      1183\n",
            "\n",
            "    accuracy                           0.91     10297\n",
            "   macro avg       0.79      0.69      0.73     10297\n",
            "weighted avg       0.90      0.91      0.90     10297\n",
            "\n"
          ]
        }
      ]
    }
  ]
}